{
 "cells": [
  {
   "cell_type": "code",
   "execution_count": 1,
   "id": "8ad87f31-f566-417e-a16d-b37b71b5fae3",
   "metadata": {},
   "outputs": [
    {
     "name": "stdin",
     "output_type": "stream",
     "text": [
      "Enter first digit: 21\n",
      "Enter 2nd digit:  32\n"
     ]
    },
    {
     "name": "stdout",
     "output_type": "stream",
     "text": [
      "Sum of 2 digits is 53\n"
     ]
    }
   ],
   "source": [
    "a=int(input(\"Enter first digit:\"))\n",
    "b=int(input(\"Enter 2nd digit: \"))\n",
    "print(\"Sum of 2 digits is\",a+b)"
   ]
  },
  {
   "cell_type": "code",
   "execution_count": 2,
   "id": "f98b6901-0d4a-4b42-bc53-b048366f156f",
   "metadata": {},
   "outputs": [
    {
     "name": "stdin",
     "output_type": "stream",
     "text": [
      "Enter radius of circle: 20\n"
     ]
    },
    {
     "name": "stdout",
     "output_type": "stream",
     "text": [
      "Area= 1256.0 Circumference= 125.60000000000001\n"
     ]
    }
   ],
   "source": [
    "r=int(input(\"Enter radius of circle:\"))\n",
    "Area = 3.14*r**2\n",
    "Circumference = 2*3.14*r\n",
    "print(\"Area=\",Area,\"Circumference=\",Circumference)"
   ]
  },
  {
   "cell_type": "code",
   "execution_count": 3,
   "id": "e495c24d-8be4-452f-bfd3-8e0e947f62cf",
   "metadata": {},
   "outputs": [
    {
     "name": "stdin",
     "output_type": "stream",
     "text": [
      "Enter Roll number: 21\n",
      "Enter Grade: A\n",
      "Enter Percentage: 93\n"
     ]
    },
    {
     "name": "stdout",
     "output_type": "stream",
     "text": [
      "Roll number= 21 Grade= A Percentage= 93\n"
     ]
    }
   ],
   "source": [
    "a=int(input(\"Enter Roll number:\"))\n",
    "b=(input(\"Enter Grade:\"))\n",
    "c=int(input(\"Enter Percentage:\"))\n",
    "print(\"Roll number=\",a,\"Grade=\",b,\"Percentage=\",c)"
   ]
  },
  {
   "cell_type": "code",
   "execution_count": 5,
   "id": "1fe97bce-a300-4957-a8f0-b4cc91252fb3",
   "metadata": {},
   "outputs": [
    {
     "name": "stdin",
     "output_type": "stream",
     "text": [
      "Enter Name: Adon\n",
      "Enter Age: 24\n"
     ]
    },
    {
     "name": "stdout",
     "output_type": "stream",
     "text": [
      "Adon with an age of 24 will turn 100 in 2098 year\n"
     ]
    }
   ],
   "source": [
    "a=input(\"Enter Name:\")\n",
    "b=int(input(\"Enter Age:\"))\n",
    "c= (2022-b)+100\n",
    "print(a,\"with an age of\",b,\"will turn 100 in\",c,\"year\")"
   ]
  },
  {
   "cell_type": "code",
   "execution_count": 6,
   "id": "04c92c93-ecfc-4319-ae61-62669a653bca",
   "metadata": {},
   "outputs": [
    {
     "name": "stdin",
     "output_type": "stream",
     "text": [
      "Enter both numbers separated by space: 23 42\n"
     ]
    },
    {
     "name": "stdout",
     "output_type": "stream",
     "text": [
      "65\n"
     ]
    }
   ],
   "source": [
    "a,b=map(int,input(\"Enter both numbers separated by space:\").split())\n",
    "print(a+b)"
   ]
  },
  {
   "cell_type": "code",
   "execution_count": null,
   "id": "bd9ec572-dd95-4933-a679-5c9f7b7a4766",
   "metadata": {},
   "outputs": [],
   "source": []
  }
 ],
 "metadata": {
  "kernelspec": {
   "display_name": "Python 3 (ipykernel)",
   "language": "python",
   "name": "python3"
  },
  "language_info": {
   "codemirror_mode": {
    "name": "ipython",
    "version": 3
   },
   "file_extension": ".py",
   "mimetype": "text/x-python",
   "name": "python",
   "nbconvert_exporter": "python",
   "pygments_lexer": "ipython3",
   "version": "3.10.6"
  }
 },
 "nbformat": 4,
 "nbformat_minor": 5
}
